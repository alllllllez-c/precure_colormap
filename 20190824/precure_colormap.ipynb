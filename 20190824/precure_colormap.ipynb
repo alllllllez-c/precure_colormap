{
 "cells": [
  {
   "cell_type": "markdown",
   "metadata": {
    "colab_type": "text",
    "id": "RsNfynqv5_WK",
    "nbpresent": {
     "id": "6911b703-1271-4d65-b52c-12f838f71d81"
    }
   },
   "source": [
    "# はじめに\n",
    "\n",
    "\n",
    "このノートは、イベント「[プリキュアハッカソン Next Stage 2](https://cure-hack.connpass.com/event/136914/)」でのネタについて、\n",
    "イマジネーションのままに書き散らかしたものです。\n",
    "\n",
    "本番発表資料は[こちら](../20190817/precure_colormap.ipynb)。\n",
    "このノートでは、カラーマップのクラス`cure_colormap`の完成を目指します。\n",
    "\n",
    "\n",
    "# 目次\n",
    "\n",
    " * お題\n",
    " * カラーマップ\n",
    "   * デフォルトのカラーマップ\n",
    "   * キュアップ・ラパパ！(プリキュアカラーマップ)\n",
    " * おわりに\n",
    " * 資料\n",
    " \n"
   ]
  },
  {
   "cell_type": "markdown",
   "metadata": {
    "colab_type": "text",
    "id": "-8KaSPYc-KyN",
    "nbpresent": {
     "id": "3a15ea61-58f1-475a-a68e-5155536c22b8"
    }
   },
   "source": [
    "# お題\n",
    "\n",
    "\n",
    "突然ですが、\n",
    "皆様、グラフを描かれることはございますか？\n",
    "\n",
    "ヒートマップやカテゴリ別の散布図など、色使いが大事なグラフがありますよね。\n",
    "その色設定、皆様はどうされていますか？\n",
    "\n",
    "例えば、グラフの配色がお好きなプリキュアのカラーリングでしたら、いかがでしょう。\n",
    "いつもより作業が捗るのではないでしょうか？\n",
    "\n",
    "というわけで、\n",
    "Pythonで使えるプリキュアっぽいカラーマップを作ってみました。\n"
   ]
  },
  {
   "cell_type": "markdown",
   "metadata": {
    "colab_type": "text",
    "id": "B9PDuant-Bkt",
    "nbpresent": {
     "id": "4ea5a96b-f70a-42f7-8063-b5ad89b1af6b"
    }
   },
   "source": [
    "# カラーマップについて\n",
    "\n",
    "Pythonで、グラフの表示を行うパッケージ `matplotib` や `seaborn` では、\n",
    "配色を\n",
    "\n",
    " * 定義されたカラーマップ名\n",
    " * カラーマップクラス `matplotlib.colors.Colormap` のインスタンス\n",
    " \n",
    "で指定できます。 \n",
    "まずは、デフォルトで定義済みのカラーマップを見ていきましょう。\n"
   ]
  },
  {
   "cell_type": "markdown",
   "metadata": {
    "colab_type": "text",
    "id": "B2aS381PgVQX",
    "nbpresent": {
     "id": "4b305cc6-ad47-4395-8042-c9c226328e81"
    }
   },
   "source": [
    "## デフォルトのカラーマップ\n"
   ]
  },
  {
   "cell_type": "code",
   "execution_count": null,
   "metadata": {
    "colab": {},
    "colab_type": "code",
    "collapsed": false,
    "id": "d5MOIHpTrIB9",
    "nbpresent": {
     "id": "af4212b8-1548-4115-b7b2-748a1335cff0"
    }
   },
   "outputs": [],
   "source": [
    "# 必要なパッケージ\n",
    "import numpy as np\n",
    "import pandas as pd\n",
    "from sklearn import datasets\n",
    "\n",
    "import matplotlib.pyplot as plt\n",
    "import matplotlib.cm as cm\n",
    "import seaborn as sns\n",
    "\n",
    "%matplotlib inline\n",
    "\n",
    "\n",
    "# スタイル設定\n",
    "# style=\"whitegrid\"：白背景＋グリッド\n",
    "# カラーパレットは指定しない(palette='deep'になる)\n",
    "# color_codes=True：指定したパレットに簡略色コードを設定する('r'とか)\n",
    "sns.set(style=\"whitegrid\", color_codes=True) \n"
   ]
  },
  {
   "cell_type": "markdown",
   "metadata": {
    "colab_type": "text",
    "id": "WIbTcotT1NO7",
    "nbpresent": {
     "id": "b38d7927-8449-470b-abc2-82926999c865"
    }
   },
   "source": [
    "一覧にすると、こんな感じです。"
   ]
  },
  {
   "cell_type": "code",
   "execution_count": null,
   "metadata": {
    "colab": {
     "base_uri": "https://localhost:8080/",
     "height": 1000
    },
    "colab_type": "code",
    "collapsed": false,
    "id": "Dhn0dOA_U5aI",
    "nbpresent": {
     "id": "d10ba719-1883-4d00-937b-54e224f3b538"
    },
    "outputId": "8a2b4426-3fb2-4769-e63a-56a6d012541b"
   },
   "outputs": [],
   "source": [
    "# 参考にした記事 ＜matplotlib - カラーマップについて＞ に掲載のカラーマップ表示ソース\n",
    "# ここではコメントの追加しかしていない\n",
    "\n",
    "import numpy as np\n",
    "import matplotlib as mpl\n",
    "import matplotlib.pyplot as plt\n",
    "from matplotlib import cm\n",
    "from collections import OrderedDict\n",
    "\n",
    "\n",
    "\n",
    "cmaps = OrderedDict()\n",
    "\n",
    "# Sequential 系は、連続して変化するデータを見せるのに適している\n",
    "cmaps['Perceptually Uniform Sequential'] = [\n",
    "    'inferno', 'magma', 'plasma', 'viridis'\n",
    "]\n",
    "cmaps['Sequential'] = [\n",
    "    'Blues', 'BuGn', 'BuPu', 'GnBu',\n",
    "    'Greens', 'Greys', 'OrRd', 'Oranges',\n",
    "    'PuBu', 'PuBuGn', 'PuRd', 'Purples',\n",
    "    'RdPu', 'Reds', 'YlGn', 'YlGnBu', 'YlOrBr', 'YlOrRd'\n",
    "]\n",
    "cmaps['Sequential (2)'] = [\n",
    "    'binary', 'gist_yarg', 'gist_gray', 'gray',\n",
    "    'bone', 'pink', 'spring', 'summer',\n",
    "    'autumn', 'winter', 'cool', 'Wistia',\n",
    "    'hot', 'afmhot', 'gist_heat', 'copper'\n",
    "]\n",
    "\n",
    "# Diverging 系は、基準となる値(0だったり、そうでなかったり)があり、基準値からどれだけ離れているかを見せるのに適している\n",
    "cmaps['Diverging'] = [\n",
    "    'PiYG', 'PRGn', 'BrBG', 'PuOr', 'RdGy', 'RdBu', 'RdYlBu',\n",
    "    'RdYlGn', 'Spectral', 'coolwarm', 'bwr', 'seismic'\n",
    "]\n",
    "\n",
    "# Qualitative 系は、カテゴリごとの集計など、連続値でないデータ(質的データ)を見せるのに適している\n",
    "cmaps['Qualitative'] = [\n",
    "    'Pastel1', 'Pastel2', 'Paired', 'Accent', 'Dark2',\n",
    "    'Set1', 'Set2', 'Set3', 'tab10', 'tab20', 'tab20b', 'tab20c'\n",
    "]\n",
    "\n",
    "# その他。\n",
    "# 'flag', 'prism' は短い周期性をもって変化するデータを見せるのに有効。\n",
    "# ほかもそうかな。。。？\n",
    "cmaps['Miscellaneous'] = [\n",
    "    'flag', 'prism', 'ocean', 'gist_earth', 'terrain', 'gist_stern', 'gnuplot',\n",
    "    'gnuplot2', 'CMRmap', 'cubehelix', 'brg', 'hsv', 'gist_rainbow', 'rainbow',\n",
    "    'jet', 'nipy_spectral', 'gist_ncar'\n",
    "]\n",
    "\n",
    "# 表示するデータとして (1, 256) の配列を作成する。\n",
    "gradient = np.linspace(0, 1, 256).reshape(1, -1)\n",
    "\n",
    "def plot_color_maps(cmap_category, cmap_list):\n",
    "    num_cmaps = len(cmap_list)\n",
    "    fig, axes = plt.subplots(num_cmaps, 2, figsize=(9, num_cmaps * 0.35))\n",
    "    fig.subplots_adjust(wspace=0.4)\n",
    "    axes[0][0].set_title(cmap_category + ' colormaps', fontsize=14, x=1.2)\n",
    "    \n",
    "    def plot_color_map(ax, gradient, name):\n",
    "        ax.imshow(gradient, aspect='auto', cmap=name)\n",
    "        ax.set_axis_off()\n",
    "        ax.text(-10, 0, name, va='center', ha='right', fontsize=10)\n",
    "    \n",
    "    for [axL, axR], name in zip(axes, cmap_list):\n",
    "        plot_color_map(axL, gradient, name)\n",
    "        plot_color_map(axR, gradient, name + '_r')\n",
    "\n",
    "for cmap_category, cmap_list in cmaps.items():\n",
    "    plot_color_maps(cmap_category, cmap_list)\n",
    "\n",
    "plt.show()"
   ]
  },
  {
   "cell_type": "markdown",
   "metadata": {
    "colab_type": "text",
    "id": "u6KOxzIf8Lse",
    "nbpresent": {
     "id": "c1d42ba7-f226-4f9e-97bd-931a7140733c"
    }
   },
   "source": [
    "実際に、このカラーマップでグラフを描いてみます。\n",
    "分析勢にはおなじみの `iris` データを使います。\n"
   ]
  },
  {
   "cell_type": "code",
   "execution_count": null,
   "metadata": {
    "colab": {},
    "colab_type": "code",
    "collapsed": false,
    "id": "pxWS_pab6Iks",
    "nbpresent": {
     "id": "8b52931b-74ca-4f62-a0e2-76677805291c"
    }
   },
   "outputs": [],
   "source": [
    "# iris(アヤメ)データのロード\n",
    "iris = datasets.load_iris()\n",
    "\n",
    "# DataFrameを構築 \n",
    "# n×4 行列 X として、アヤメのデータを格納した2次元配列(iris.data)を指定。カラム名もアヤメのデータから(iris.feature_name)\n",
    "X = pd.DataFrame(iris.data, columns = iris.feature_names)\n",
    "\n",
    "# n次元ベクトル y として、アヤメの品種データを格納したベクトル(data.target)を指定。\n",
    "y = pd.DataFrame(iris.target, columns = ['Species'])\n",
    "\n",
    "# X と y を結合して n×5 行列にする。axis=1 で列の方向に連結させる\n",
    "df = pd.concat([X, y], axis=1)\n"
   ]
  },
  {
   "cell_type": "code",
   "execution_count": null,
   "metadata": {
    "colab": {},
    "colab_type": "code",
    "collapsed": true,
    "id": "v03F0pgFchbM",
    "nbpresent": {
     "id": "1b1bba9c-f5d4-4530-a243-8f1c9f25e681"
    }
   },
   "outputs": [],
   "source": [
    "# DataFrameをちょっとだけみる(カラム名がわかればいいのでちょっとだけ)\n",
    "df.info()"
   ]
  },
  {
   "cell_type": "code",
   "execution_count": null,
   "metadata": {
    "colab": {
     "base_uri": "https://localhost:8080/",
     "height": 472
    },
    "colab_type": "code",
    "collapsed": false,
    "id": "fxKsCNMU6OIS",
    "nbpresent": {
     "id": "00f842fd-776a-40e4-ad8c-0d054908c8a7"
    },
    "outputId": "253ef616-10f4-4afc-d976-8f73a42eedce"
   },
   "outputs": [],
   "source": [
    "# 散布図の表示 \n",
    "\n",
    "plt.figure(figsize=(10,7)) # サイズ設定 \n",
    "sns.scatterplot(x='sepal length (cm)', y='sepal width (cm)', hue='Species', data=df, palette='Set1')\n"
   ]
  },
  {
   "cell_type": "code",
   "execution_count": null,
   "metadata": {
    "colab": {},
    "colab_type": "code",
    "collapsed": true,
    "id": "CWbvdZ2wecZI",
    "nbpresent": {
     "id": "93c7ed5d-19c2-4a22-9430-26eb9cbd7753"
    }
   },
   "outputs": [],
   "source": [
    "df.corr()"
   ]
  },
  {
   "cell_type": "code",
   "execution_count": null,
   "metadata": {
    "colab": {
     "base_uri": "https://localhost:8080/",
     "height": 570
    },
    "colab_type": "code",
    "collapsed": false,
    "id": "66eWJtuSZFdE",
    "nbpresent": {
     "id": "a2ad744e-d559-4c49-aec1-01080a0a50ee"
    },
    "outputId": "983e76c7-fb1b-4ae3-bbf0-69471ebc7dc1"
   },
   "outputs": [],
   "source": [
    "# 相関係数行列\n",
    "\n",
    "plt.figure(figsize=(12,9)) # サイズ設定 \n",
    "sns.heatmap(df[df.columns[df.columns != 'Species']].corr(),linewidths=0.1,vmax=1.0, square=True, linecolor='white', annot=True, cmap='bwr')"
   ]
  },
  {
   "cell_type": "markdown",
   "metadata": {
    "colab_type": "text",
    "id": "gC3GJimphwHI",
    "nbpresent": {
     "id": "5ae2ef09-d21c-42dd-87ee-cfc1d56eb7fb"
    }
   },
   "source": [
    "以上が、デフォルトで使用できるカラーマップを使った場合です。\n",
    "\n",
    "いいんですよ、見やすくて。\n",
    "\n",
    "でも、__そうじゃない__。\n",
    "この色使いには、キラキラルがないジャバ・・・\n",
    "\n",
    "というわけで。\n"
   ]
  },
  {
   "cell_type": "markdown",
   "metadata": {
    "colab_type": "text",
    "id": "0VWUI3F_6x8A",
    "nbpresent": {
     "id": "4ababc16-2f28-4dd9-a4f1-6a3cf27eb986"
    }
   },
   "source": [
    "##  キュアップ・ラパパ！\n",
    "\n",
    "色よ、プリキュアカラーに変われ！\n",
    "\n",
    "・・・\n",
    "\n",
    "プリキュアの魔法で、クラス `cure_colormap` が生み出されたようです。 \n",
    "\n",
    "プリキュアの名前を呼ぶと、プリキュアっぽいカラーマップが返ってくるみたい！ワクワクもんだぁ！\n"
   ]
  },
  {
   "cell_type": "code",
   "execution_count": null,
   "metadata": {
    "colab": {},
    "colab_type": "code",
    "collapsed": true,
    "id": "M50I8hbkiVfm",
    "nbpresent": {
     "id": "b061d024-5af9-491f-8032-db672deb5077"
    }
   },
   "outputs": [],
   "source": [
    "# colormapをカスタマイズする\n",
    "from matplotlib.colors import LinearSegmentedColormap\n",
    "\n",
    "\n",
    "def generate_cmap_q(colors) :\n",
    "    '''\n",
    "    指定した色で、Qualitative(質的)なカラーマップを生成して返す\n",
    "    \n",
    "    Parameter\n",
    "    ---------\n",
    "    colors : array of color hexcode\n",
    "    色を16進数表記した文字列を格納した配列。\n",
    "\n",
    "    Return\n",
    "    ------\n",
    "    matplotlib.colors.Colormap object かな？\n",
    "    \n",
    "    '''\n",
    "    return sns.color_palette(colors)\n",
    "                      \n",
    "class cure_colormap :\n",
    "    '''\n",
    "    プリキュアっぽいカラーマップを生成して取得するクラス\n",
    "    \n",
    "    Attributes\n",
    "    ----------\n",
    "    name_to_cmap : dictionary object\n",
    "        プリキュアの名称 -> colormap への対応\n",
    "    \n",
    "    cure_black\n",
    "    cure_white\n",
    "    shiny_luminous\n",
    "    ：\n",
    "    <ALL Precure> : matplotlib.colors.Colormap object\n",
    "        各プリキュアのカラーマップ\n",
    "        \n",
    "        TODO：直接呼び出したかったからこうしたけど、全プリキュア分のインスタンス保持しとくのはさすがに重くね？呼び出されたときでよくね？\n",
    "    \n",
    "    '''\n",
    "    def __init__(self):\n",
    "        self.name_to_cmap = dict()\n",
    "\n",
    "        # ふたりはプリキュア\n",
    "        self.cure_black = self.generate_cmap(['#00072A', '#F4F4F4', '#FFC7B8', '#904B2C', '#B2987F', '#FF3398']) # https://pictones.firebaseapp.com/ × http://www.toei-anim.co.jp/movie/2013_precure_allstars/images/futari1.jpg \n",
    "        self.name_to_cmap['キュアブラック'] = self.cure_black\n",
    "        self.name_to_cmap['Cure Black'] = self.cure_black\n",
    "\n",
    "        self.cure_white = self.generate_cmap(['#F4F4F4', '#FBD6CE', '#0099FF', '#66CCFC', '#05030E', '#726DA3']) # https://pictones.firebaseapp.com/ × http://www.toei-anim.co.jp/movie/2013_precure_allstars/images/futari2.jpg\n",
    "        self.name_to_cmap['キュアホワイト'] = self.cure_white\n",
    "        self.name_to_cmap['Cure White'] = self.cure_white\n",
    "\n",
    "        # ふたりはプリキュア Max Heart\n",
    "        self.shiny_luminous = self.generate_cmap(['#FECF04', '#FEFB53', '#F5F7F7', '#FEB1D1', '#FE3521'])\n",
    "        self.name_to_cmap['シャイニールミナス'] = self.shiny_luminous\n",
    "        self.name_to_cmap['Shiny Luminous'] = self.shiny_luminous\n",
    "\n",
    "        # ふたりはプリキュア Splash Star\n",
    "        self.cure_bloom = self.generate_cmap(['#FCAC35', '#FFFF8E', '#FF3292', '#942953'])\n",
    "        self.name_to_cmap[''] = self.cure_bloom\n",
    "        self.name_to_cmap['Cure Bloom'] = self.cure_bloom\n",
    "\n",
    "        self.cure_bright = self.generate_cmap(['#FDAD38', '#FBCF84', '#FFFFA6', '#F0E947', '#97F518', '#FFFFDF', '#F93B9A', '#DC0067']) # 東映公式に大きめの画像がない？ # https://www.asahi.co.jp/precure_ss/character/img/cb.gif\n",
    "        self.name_to_cmap[''] = self.cure_bright\n",
    "        self.name_to_cmap['Cure Bright'] = self.cure_bright\n",
    "        \n",
    "        self.cure_eglet = self.generate_cmap(['#711391', '#FFFFF3', '#D0D6FF', '#06FCD5'])\n",
    "        self.name_to_cmap[''] = self.cure_eglet\n",
    "        self.name_to_cmap['Cure Egret'] = self.cure_eglet\n",
    "        \n",
    "        self.cure_windy = self.generate_cmap(['741B93', '#D16FE7', '#F8F8F8', '#DFFFFF', '#01FEDE', '#FFF3FD', '#FDB2E1'])  # 東映公式に大きめの画像がない？ # https://www.asahi.co.jp/precure_ss/character/img/cw.gif\n",
    "        self.name_to_cmap[''] = self.cure_windy\n",
    "        self.name_to_cmap['Cure Windy'] = self.cure_windy\n",
    "\n",
    "        self.kaoru_kiryuu = self.generate_cmap(['#275D8A', '#DDECF1', '#E7F5FD', '#DDB9CB', '#CC87BB']) # https://lohas.nicoseiga.jp/thumb/8016685i?1522857603\n",
    "        self.name_to_cmap['霧生薫'] = self.kaoru_kiryuu\n",
    "        self.name_to_cmap['Kaoru Kiryuu'] = self.kaoru_kiryuu\n",
    "\n",
    "        self.michiru_kiryuu = self.generate_cmap(['#8D2045', '#DC98A9', '#C5E462', '#F9FA9B', '#C11E7A']) # https://lohas.nicoseiga.jp/thumb/8016685i?1522857603\n",
    "        self.name_to_cmap['霧生満'] = self.michiru_kiryuu\n",
    "        self.name_to_cmap['Michiru Kiryuu'] = self.michiru_kiryuu\n",
    "\n",
    "        ##### TODO：未作成\n",
    "        # Yes!プリキュア5\n",
    "        self.cure_ = self.generate_cmap(['#FFFFFF', '#FFFFFF', '#FFFFFF', '#FFFFFF'])\n",
    "        self.name_to_cmap[''] = self.cure_\n",
    "        self.name_to_cmap[''] = self.cure_\n",
    "\n",
    "        self.cure_ = self.generate_cmap(['#FFFFFF', '#FFFFFF', '#FFFFFF', '#FFFFFF'])\n",
    "        self.name_to_cmap[''] = self.cure_\n",
    "        self.name_to_cmap[''] = self.cure_\n",
    "\n",
    "        self.cure_ = self.generate_cmap(['#FFFFFF', '#FFFFFF', '#FFFFFF', '#FFFFFF'])\n",
    "        self.name_to_cmap[''] = self.cure_\n",
    "        self.name_to_cmap[''] = self.cure_\n",
    "\n",
    "        self.cure_ = self.generate_cmap(['#FFFFFF', '#FFFFFF', '#FFFFFF', '#FFFFFF'])\n",
    "        self.name_to_cmap[''] = self.cure_\n",
    "        self.name_to_cmap[''] = self.cure_\n",
    "\n",
    "        self.cure_ = self.generate_cmap(['#FFFFFF', '#FFFFFF', '#FFFFFF', '#FFFFFF'])\n",
    "        self.name_to_cmap[''] = self.cure_\n",
    "        self.name_to_cmap[''] = self.cure_\n",
    "        [\n",
    "            'Cure Dream',\n",
    "            'Cure Rouge',\n",
    "            'Cure Lemonade',\n",
    "            'Cure Mint',\n",
    "            'Cure Aqua'\n",
    "        ]\n",
    "\n",
    "        ##### TODO：未作成\n",
    "        # Yes!プリキュア5GoGo!\n",
    "        self.cure_ = self.generate_cmap(['#FFFFFF', '#FFFFFF', '#FFFFFF', '#FFFFFF'])\n",
    "        self.name_to_cmap[''] = self.cure_\n",
    "        self.name_to_cmap[''] = self.cure_\n",
    "        'Milky Rose'\n",
    "\n",
    "\n",
    "        ##### TODO：未作成\n",
    "        # フレッシュプリキュア!\n",
    "        self.cure_ = self.generate_cmap(['#FFFFFF', '#FFFFFF', '#FFFFFF', '#FFFFFF'])\n",
    "        self.name_to_cmap[''] = self.cure_\n",
    "        self.name_to_cmap[''] = self.cure_\n",
    "\n",
    "        self.cure_ = self.generate_cmap(['#FFFFFF', '#FFFFFF', '#FFFFFF', '#FFFFFF'])\n",
    "        self.name_to_cmap[''] = self.cure_\n",
    "        self.name_to_cmap[''] = self.cure_\n",
    "\n",
    "        self.cure_ = self.generate_cmap(['#FFFFFF', '#FFFFFF', '#FFFFFF', '#FFFFFF'])\n",
    "        self.name_to_cmap[''] = self.cure_\n",
    "        self.name_to_cmap[''] = self.cure_\n",
    "\n",
    "        self.cure_ = self.generate_cmap(['#FFFFFF', '#FFFFFF', '#FFFFFF', '#FFFFFF'])\n",
    "        self.name_to_cmap[''] = self.cure_\n",
    "        self.name_to_cmap[''] = self.cure_\n",
    "        [\n",
    "            'Cure Peach',\n",
    "            'Cure Berry',\n",
    "            'Cure Pine',\n",
    "            'Cure Passion'\n",
    "        ]\n",
    "        \n",
    "        ##### TODO：未作成\n",
    "        # スイートプリキュア♪\n",
    "        self.cure_ = self.generate_cmap(['#FFFFFF', '#FFFFFF', '#FFFFFF', '#FFFFFF'])\n",
    "        self.name_to_cmap[''] = self.cure_\n",
    "        self.name_to_cmap[''] = self.cure_\n",
    "\n",
    "        self.cure_ = self.generate_cmap(['#FFFFFF', '#FFFFFF', '#FFFFFF', '#FFFFFF'])\n",
    "        self.name_to_cmap[''] = self.cure_\n",
    "        self.name_to_cmap[''] = self.cure_\n",
    "\n",
    "        self.cure_ = self.generate_cmap(['#FFFFFF', '#FFFFFF', '#FFFFFF', '#FFFFFF'])\n",
    "        self.name_to_cmap[''] = self.cure_\n",
    "        self.name_to_cmap[''] = self.cure_\n",
    "\n",
    "        self.cure_ = self.generate_cmap(['#FFFFFF', '#FFFFFF', '#FFFFFF', '#FFFFFF'])\n",
    "        self.name_to_cmap[''] = self.cure_\n",
    "        self.name_to_cmap[''] = self.cure_\n",
    "        [\n",
    "            'Cure Melody',\n",
    "            'Cure Rhythm',\n",
    "            'Cure Beat',\n",
    "            'Cure Muse'\n",
    "        ]\n",
    "\n",
    "        \n",
    "        ##### TODO：未作成\n",
    "        # ハートキャッチプリキュア！\n",
    "        self.cure_ = self.generate_cmap(['#FFFFFF', '#FFFFFF', '#FFFFFF', '#FFFFFF'])\n",
    "        self.name_to_cmap[''] = self.cure_\n",
    "        self.name_to_cmap[''] = self.cure_\n",
    "\n",
    "        self.cure_ = self.generate_cmap(['#FFFFFF', '#FFFFFF', '#FFFFFF', '#FFFFFF'])\n",
    "        self.name_to_cmap[''] = self.cure_\n",
    "        self.name_to_cmap[''] = self.cure_\n",
    "\n",
    "        self.cure_ = self.generate_cmap(['#FFFFFF', '#FFFFFF', '#FFFFFF', '#FFFFFF'])\n",
    "        self.name_to_cmap[''] = self.cure_\n",
    "        self.name_to_cmap[''] = self.cure_\n",
    "\n",
    "        self.cure_ = self.generate_cmap(['#FFFFFF', '#FFFFFF', '#FFFFFF', '#FFFFFF'])\n",
    "        self.name_to_cmap[''] = self.cure_\n",
    "        self.name_to_cmap[''] = self.cure_\n",
    "        [\n",
    "            'Cure Blossom',\n",
    "            'Cure Marine',\n",
    "            'Cure Sunshine',\n",
    "            'Cure Moonlight'\n",
    "        ]\n",
    "\n",
    "        ##### TODO：未作成\n",
    "        # スマイルプリキュア!\n",
    "        self.cure_ = self.generate_cmap(['#FFFFFF', '#FFFFFF', '#FFFFFF', '#FFFFFF'])\n",
    "        self.name_to_cmap[''] = self.cure_\n",
    "        self.name_to_cmap[''] = self.cure_\n",
    "\n",
    "        self.cure_ = self.generate_cmap(['#FFFFFF', '#FFFFFF', '#FFFFFF', '#FFFFFF'])\n",
    "        self.name_to_cmap[''] = self.cure_\n",
    "        self.name_to_cmap[''] = self.cure_\n",
    "\n",
    "        self.cure_ = self.generate_cmap(['#FFFFFF', '#FFFFFF', '#FFFFFF', '#FFFFFF'])\n",
    "        self.name_to_cmap[''] = self.cure_\n",
    "        self.name_to_cmap[''] = self.cure_\n",
    "\n",
    "        self.cure_ = self.generate_cmap(['#FFFFFF', '#FFFFFF', '#FFFFFF', '#FFFFFF'])\n",
    "        self.name_to_cmap[''] = self.cure_\n",
    "        self.name_to_cmap[''] = self.cure_\n",
    "\n",
    "        self.cure_ = self.generate_cmap(['#FFFFFF', '#FFFFFF', '#FFFFFF', '#FFFFFF'])\n",
    "        self.name_to_cmap[''] = self.cure_\n",
    "        self.name_to_cmap[''] = self.cure_\n",
    "        [\n",
    "            'Cure Happy',\n",
    "            'Cure Sunny',\n",
    "            'Cure Peace',\n",
    "            'Cure March',\n",
    "            'Cure Beauty',\n",
    "\n",
    "        ]\n",
    "\n",
    "\n",
    "        # ドキドキ!プリキュア\n",
    "        self.cure_heart = self.generate_cmap(['#D4A615', '#FFF99E', '#FAFAFA', '#FAB1E2', '#EC3C9C'])\n",
    "        self.name_to_cmap[''] = self.cure_heart\n",
    "        self.name_to_cmap['Cure Heart'] = self.cure_heart\n",
    "\n",
    "        self.cure_diamond = self.generate_cmap(['#4245AF', '#A8ACF9', '#FAFAFA', '#5791F1', '#597AA7'])\n",
    "        self.name_to_cmap[''] = self.cure_diamond\n",
    "        self.name_to_cmap['Cure Diamond'] = self.cure_diamond\n",
    "\n",
    "        self.cure_rosetta = self.generate_cmap(['#B3481E', '#FFC05C', '#FAFAFA', '#C9EFB6', '#F7DB3D'])\n",
    "        self.name_to_cmap[''] = self.cure_rosetta\n",
    "        self.name_to_cmap['Cure Rosetta'] = self.cure_rosetta\n",
    "\n",
    "        self.cure_sword = self.generate_cmap(['#AE57B5', '#EEB4F8', '#FAFAFA', '#ADBBF5', '#8B87B2'])\n",
    "        self.name_to_cmap[''] = self.cure_sword\n",
    "        self.name_to_cmap['Cure Sword'] = self.cure_sword\n",
    "\n",
    "        self.cure_ace = self.generate_cmap(['#A51318', '#FD757D', '#FFE8EC', '#FAFAFA', '#FFFFFF'])\n",
    "        self.name_to_cmap[''] = self.cure_ace\n",
    "        self.name_to_cmap['Cure Ace'] = self.cure_ace\n",
    "\n",
    "        self.cure_sebastian = self.generate_cmap(['#36424E', '#E0EBF1', '#DB0517', '#DB3FA2', '#F48484'])\n",
    "        self.name_to_cmap[''] = self.cure_sebastian\n",
    "        self.name_to_cmap['Cure Sebastian'] = self.cure_sebastian\n",
    "\n",
    "        ##### TODO：未作成\n",
    "        # ハピネスチャージプリキュア!\n",
    "        self.cure_ = self.generate_cmap(['#FFFFFF', '#FFFFFF', '#FFFFFF', '#FFFFFF'])\n",
    "        self.name_to_cmap[''] = self.cure_\n",
    "        self.name_to_cmap[''] = self.cure_\n",
    "\n",
    "        self.cure_ = self.generate_cmap(['#FFFFFF', '#FFFFFF', '#FFFFFF', '#FFFFFF'])\n",
    "        self.name_to_cmap[''] = self.cure_\n",
    "        self.name_to_cmap[''] = self.cure_\n",
    "\n",
    "        self.cure_ = self.generate_cmap(['#FFFFFF', '#FFFFFF', '#FFFFFF', '#FFFFFF'])\n",
    "        self.name_to_cmap[''] = self.cure_\n",
    "        self.name_to_cmap[''] = self.cure_\n",
    "\n",
    "        self.cure_ = self.generate_cmap(['#FFFFFF', '#FFFFFF', '#FFFFFF', '#FFFFFF'])\n",
    "        self.name_to_cmap[''] = self.cure_\n",
    "        self.name_to_cmap[''] = self.cure_\n",
    "        [\n",
    "            'Cure Lovely',\n",
    "            'Cure Princess',\n",
    "            'Cure Honey',\n",
    "            'Cure Fortune',\n",
    "            'Cure Mirage'\n",
    "\n",
    "        ]\n",
    "        \n",
    "        # Go!プリンセスプリキュア\n",
    "        self.cure_flora = self.generate_cmap(['#DC3482', '#FE8ADA', '#FFF5FD', '#F8F5A2'])\n",
    "        self.name_to_cmap['キュアフローラ'] = self.cure_flora\n",
    "        self.name_to_cmap['Cure Flora'] = self.cure_flora\n",
    "        \n",
    "        self.cure_marmaid = self.generate_cmap(['#3C57D8', '#8EE9D8', '#F1FBF2', '#FCC3DD'])\n",
    "        self.name_to_cmap['キュアマーメイド'] = self.cure_marmaid\n",
    "        self.name_to_cmap['Cure Mermaid'] = self.cure_marmaid\n",
    "        \n",
    "        self.cure_twinkle = self.generate_cmap(['#F15312', '#FF9A18', '#FDFF94', '#FCE92D', '#BA70F8'])\n",
    "        self.name_to_cmap['キュアトゥインクル'] = self.cure_twinkle\n",
    "        self.name_to_cmap['Cure Twinkle'] = self.cure_twinkle\n",
    "        \n",
    "        self.cure_scarlet = self.generate_cmap(['#E73F94', '#FEC8FC', '#F6D437', '#E01646'])\n",
    "        self.name_to_cmap['キュアスカーレット'] = self.cure_scarlet\n",
    "        self.name_to_cmap['Cure Scarlet'] = self.cure_scarlet\n",
    "        \n",
    "\n",
    "        ##### TODO：未作成\n",
    "        # 魔法つかいプリキュア!\n",
    "        self.cure_ = self.generate_cmap(['#FFFFFF', '#FFFFFF', '#FFFFFF', '#FFFFFF'])\n",
    "        self.name_to_cmap[''] = self.cure_\n",
    "        self.name_to_cmap[''] = self.cure_\n",
    "\n",
    "        self.cure_ = self.generate_cmap(['#FFFFFF', '#FFFFFF', '#FFFFFF', '#FFFFFF'])\n",
    "        self.name_to_cmap[''] = self.cure_\n",
    "        self.name_to_cmap[''] = self.cure_\n",
    "\n",
    "        self.cure_ = self.generate_cmap(['#FFFFFF', '#FFFFFF', '#FFFFFF', '#FFFFFF'])\n",
    "        self.name_to_cmap[''] = self.cure_\n",
    "        self.name_to_cmap[''] = self.cure_\n",
    "\n",
    "        self.cure_ = self.generate_cmap(['#FFFFFF', '#FFFFFF', '#FFFFFF', '#FFFFFF'])\n",
    "        self.name_to_cmap[''] = self.cure_\n",
    "        self.name_to_cmap[''] = self.cure_\n",
    "        [\n",
    "            'Cure Miracle',\n",
    "            'Cure Magical',\n",
    "            'Cure Felice',\n",
    "            'Cure Mofurun'\n",
    "        ]\n",
    "\n",
    "        ##### TODO：未作成\n",
    "        # キラキラ☆プリキュアアラモード\n",
    "        self.cure_ = self.generate_cmap(['#FFFFFF', '#FFFFFF', '#FFFFFF', '#FFFFFF'])\n",
    "        self.name_to_cmap[''] = self.cure_\n",
    "        self.name_to_cmap[''] = self.cure_\n",
    "\n",
    "        self.cure_ = self.generate_cmap(['#FFFFFF', '#FFFFFF', '#FFFFFF', '#FFFFFF'])\n",
    "        self.name_to_cmap[''] = self.cure_\n",
    "        self.name_to_cmap[''] = self.cure_\n",
    "\n",
    "        self.cure_ = self.generate_cmap(['#FFFFFF', '#FFFFFF', '#FFFFFF', '#FFFFFF'])\n",
    "        self.name_to_cmap[''] = self.cure_\n",
    "        self.name_to_cmap[''] = self.cure_\n",
    "\n",
    "        self.cure_ = self.generate_cmap(['#FFFFFF', '#FFFFFF', '#FFFFFF', '#FFFFFF'])\n",
    "        self.name_to_cmap[''] = self.cure_\n",
    "        self.name_to_cmap[''] = self.cure_\n",
    "        [\n",
    "            'Cure Whip',\n",
    "            'Cure Custard',\n",
    "            'Cure Gelato',\n",
    "            'Cure Macaron',\n",
    "            'Cure Chocolat',\n",
    "            'Cure Parfait',\n",
    "            'Cure Pekorin'\n",
    "        ]\n",
    "\n",
    "        ##### TODO：未作成\n",
    "        # HUGっと！プリキュア\n",
    "        self.cure_ = self.generate_cmap(['#FFFFFF', '#FFFFFF', '#FFFFFF', '#FFFFFF'])\n",
    "        self.name_to_cmap[''] = self.cure_\n",
    "        self.name_to_cmap[''] = self.cure_\n",
    "\n",
    "        self.cure_ = self.generate_cmap(['#FFFFFF', '#FFFFFF', '#FFFFFF', '#FFFFFF'])\n",
    "        self.name_to_cmap[''] = self.cure_\n",
    "        self.name_to_cmap[''] = self.cure_\n",
    "\n",
    "        self.cure_ = self.generate_cmap(['#FFFFFF', '#FFFFFF', '#FFFFFF', '#FFFFFF'])\n",
    "        self.name_to_cmap[''] = self.cure_\n",
    "        self.name_to_cmap[''] = self.cure_\n",
    "\n",
    "        self.cure_ = self.generate_cmap(['#FFFFFF', '#FFFFFF', '#FFFFFF', '#FFFFFF'])\n",
    "        self.name_to_cmap[''] = self.cure_\n",
    "        self.name_to_cmap[''] = self.cure_\n",
    "        [\n",
    "            'Cure Yell',\n",
    "            'Cure Ange',\n",
    "            'Cure Etoile',\n",
    "            'Cure Macherie',\n",
    "            'Cure Amour',\n",
    "            'Cure Tomorrow'\n",
    "\n",
    "        ]\n",
    "\n",
    "        ##### TODO：未作成\n",
    "        # スター☆トゥインクルプリキュア\n",
    "        self.cure_ = self.generate_cmap(['#FFFFFF', '#FFFFFF', '#FFFFFF', '#FFFFFF'])\n",
    "        self.name_to_cmap[''] = self.cure_\n",
    "        self.name_to_cmap[''] = self.cure_\n",
    "\n",
    "        self.cure_ = self.generate_cmap(['#FFFFFF', '#FFFFFF', '#FFFFFF', '#FFFFFF'])\n",
    "        self.name_to_cmap[''] = self.cure_\n",
    "        self.name_to_cmap[''] = self.cure_\n",
    "\n",
    "        self.cure_ = self.generate_cmap(['#FFFFFF', '#FFFFFF', '#FFFFFF', '#FFFFFF'])\n",
    "        self.name_to_cmap[''] = self.cure_\n",
    "        self.name_to_cmap[''] = self.cure_\n",
    "\n",
    "        self.cure_ = self.generate_cmap(['#FFFFFF', '#FFFFFF', '#FFFFFF', '#FFFFFF'])\n",
    "        self.name_to_cmap[''] = self.cure_\n",
    "        self.name_to_cmap[''] = self.cure_\n",
    "        [\n",
    "            'Cure Star',\n",
    "            'Cure Milky',\n",
    "            'Cure Soleil',\n",
    "            'Cure Selene',\n",
    "            'Cure Cosmo',\n",
    "\n",
    "        ]\n",
    "\n",
    "    def get_by_name(self, name):\n",
    "        '''\n",
    "        プリキュアの名前を受取り、対応するカラーマップを返す\n",
    "        \n",
    "        Parameter\n",
    "        ---------\n",
    "        name : string [in]\n",
    "            プリキュアの名称\n",
    "        \n",
    "        Return\n",
    "        ------\n",
    "        matplotlib.colors.Colormap object\n",
    "        一致するプリキュアがいなければNone\n",
    "        \n",
    "        '''\n",
    "        return self.name_to_cmap.get(name)\n",
    "    \n",
    "\n",
    "    def generate_cmap(self, colors):\n",
    "        '''\n",
    "        指定した色でのカラーマップを返す\n",
    "\n",
    "        Parameter\n",
    "        ---------\n",
    "        colors : array of color hexcode\n",
    "            色を16進数表記した文字列を格納した配列を指定してください。\n",
    "\n",
    "        Return\n",
    "        ------\n",
    "        matplotlib.colors.Colormap object\n",
    "\n",
    "        '''\n",
    "\n",
    "        values = range(len(colors))\n",
    "\n",
    "        vmax = np.ceil(np.max(values))\n",
    "        color_list = []\n",
    "        for v, c in zip(values, colors):\n",
    "            color_list.append( ( v / vmax, c) )\n",
    "        return LinearSegmentedColormap.from_list('custom_cmap', color_list)\n"
   ]
  },
  {
   "cell_type": "code",
   "execution_count": null,
   "metadata": {
    "colab": {},
    "colab_type": "code",
    "collapsed": true,
    "id": "UZ4Dubhl4H42",
    "nbpresent": {
     "id": "13d22a55-10d1-43a1-9eef-419d90efffc4"
    }
   },
   "outputs": [],
   "source": [
    "## テスト\n",
    "def test_cure_colormap():\n",
    "    cure_colors = cure_colormap()\n",
    "    print(\"cure_colors.cure_twinkle: \", cure_colors.cure_twinkle) # メンバ直打ち\n",
    "    print(\"cure_colors.get_by_name('キュアトゥインクル'): \", cure_colors.get_by_name('キュアトゥインクル')) # 名前で呼ぶ\n",
    "    print(\"cure_colors.get_by_name('キュアゴリラ'): \", cure_colors.get_by_name('キュアゴリラ'))   # Noneに軟着陸する\n",
    "\n",
    "test_cure_colormap()"
   ]
  },
  {
   "cell_type": "markdown",
   "metadata": {
    "colab_type": "text",
    "id": "acAweO13ExoB",
    "nbpresent": {
     "id": "a4213695-8d93-4096-bfdf-52a97d4409e0"
    }
   },
   "source": [
    "では、どんな色か見てみましょう！"
   ]
  },
  {
   "cell_type": "code",
   "execution_count": null,
   "metadata": {
    "colab": {
     "base_uri": "https://localhost:8080/",
     "height": 504
    },
    "colab_type": "code",
    "collapsed": false,
    "id": "zmS5ydeZ7x3E",
    "nbpresent": {
     "id": "d2459bbc-17b7-424d-ba8e-90df0b704e3c"
    },
    "outputId": "aa6e37ee-93fb-45ac-b666-05ec6673c25b"
   },
   "outputs": [],
   "source": [
    "# カラーマップ表示 プリキュア版\n",
    "# 未作成のプリキュアはコメント化\n",
    "import numpy as np\n",
    "import matplotlib as mpl\n",
    "import matplotlib.pyplot as plt\n",
    "from matplotlib import cm\n",
    "from collections import OrderedDict\n",
    "\n",
    "\n",
    "cure_colors = cure_colormap()\n",
    "cmaps = OrderedDict()\n",
    "\n",
    "# ふたりはプリキュア\n",
    "cmaps['Futari wa Pretty Cure'] = [\n",
    "    'Cure Black',\n",
    "    'Cure White'\n",
    "]\n",
    "\n",
    "# ふたりはプリキュア Max Heart\n",
    "cmaps['Futari wa Pretty Cure Max Heart'] = [\n",
    "    'Cure Black',\n",
    "    'Cure White',\n",
    "    'Shiny Luminous'\n",
    "]\n",
    "\n",
    "# ふたりはプリキュア Splash Star\n",
    "cmaps['Futari wa Pretty Cure Splash Star'] = [\n",
    "    'Cure Bloom',\n",
    "    'Cure Bright',\n",
    "    'Cure Egret',\n",
    "    'Cure Windy',\n",
    "    'Kaoru Kiryuu', #霧生薫\n",
    "    'Michiru Kiryuu', #霧生満\n",
    "]\n",
    "\n",
    "# Yes!プリキュア5\n",
    "cmaps['Yes! PreCure 5'] = [\n",
    "    'Cure Dream',\n",
    "    'Cure Rouge',\n",
    "    'Cure Lemonade',\n",
    "    'Cure Mint',\n",
    "    'Cure Aqua'\n",
    "]\n",
    "\n",
    "# Yes!プリキュア5GoGo!\n",
    "cmaps['Yes! PreCure 5 GoGo!'] = [\n",
    "    'Cure Dream',\n",
    "    'Cure Rouge',\n",
    "    'Cure Lemonade',\n",
    "    'Cure Mint',\n",
    "    'Cure Aqua',\n",
    "    'Milky Rose'\n",
    "]\n",
    "\n",
    "# フレッシュプリキュア!\n",
    "cmaps['Fresh Pretty Cure!'] = [\n",
    "    'Cure Peach',\n",
    "    'Cure Berry',\n",
    "    'Cure Pine',\n",
    "    'Cure Passion'\n",
    "]\n",
    "\n",
    "# ハートキャッチプリキュア！\n",
    "cmaps['HeartCatch PreCure!'] = [\n",
    "    'Cure Blossom',\n",
    "    'Cure Marine',\n",
    "    'Cure Sunshine',\n",
    "    'Cure Moonlight'\n",
    "]\n",
    "\n",
    "# スイートプリキュア♪\n",
    "cmaps['Suite PreCure'] = [\n",
    "    'Cure Melody',\n",
    "    'Cure Rhythm',\n",
    "    'Cure Beat',\n",
    "    'Cure Muse'\n",
    "]\n",
    "\n",
    "# スマイルプリキュア!\n",
    "cmaps['Smile PreCure!'] = [\n",
    "    'Cure Happy',\n",
    "    'Cure Sunny',\n",
    "    'Cure Peace',\n",
    "    'Cure March',\n",
    "    'Cure Beauty',\n",
    "\n",
    "]\n",
    "\n",
    "# ドキドキ!プリキュア\n",
    "cmaps['DokiDoki! PreCure'] = [\n",
    "    'Cure Heart',\n",
    "    'Cure Diamond',\n",
    "    'Cure Rosetta',\n",
    "    'Cure Sword',\n",
    "    'Cure Ace',\n",
    "    'Cure Sebastian',\n",
    "\n",
    "]\n",
    "\n",
    "# ハピネスチャージプリキュア!\n",
    "cmaps['HappinessCharge PreCure!'] = [\n",
    "    'Cure Lovely',\n",
    "    'Cure Princess',\n",
    "    'Cure Honey',\n",
    "    'Cure Fortune',\n",
    "    'Cure Mirage'\n",
    "\n",
    "]\n",
    "\n",
    "# Go!プリンセスプリキュア\n",
    "cmaps['Go! Princess PreCure'] = [\n",
    "    'Cure Flora',\n",
    "    'Cure Mermaid',\n",
    "    'Cure Twinkle',\n",
    "    'Cure Scarlet'\n",
    "]\n",
    "\n",
    "# 魔法つかいプリキュア!\n",
    "cmaps['Witchy PreCure!'] = [\n",
    "    'Cure Miracle',\n",
    "    'Cure Magical',\n",
    "    'Cure Felice',\n",
    "    'Cure Mofurun'\n",
    "]\n",
    "\n",
    "# キラキラ☆プリキュアアラモード\n",
    "cmaps['Kirakira PreCure a la Mode'] = [\n",
    "    'Cure Whip',\n",
    "    'Cure Custard',\n",
    "    'Cure Gelato',\n",
    "    'Cure Macaron',\n",
    "    'Cure Chocolat',\n",
    "    'Cure Parfait',\n",
    "    'Cure Pekorin'\n",
    "]\n",
    "\n",
    "# HUGっと！プリキュア\n",
    "cmaps['Hugtto! PreCure'] = [\n",
    "    'Cure Yell',\n",
    "    'Cure Ange',\n",
    "    'Cure Etoile',\n",
    "    'Cure Macherie',\n",
    "    'Cure Amour',\n",
    "    'Cure Tomorrow'\n",
    "\n",
    "]\n",
    "\n",
    "# スター☆トゥインクルプリキュア\n",
    "cmaps['Star Twinkle PreCure'] = [\n",
    "    'Cure Star',\n",
    "    'Cure Milky',\n",
    "    'Cure Soleil',\n",
    "    'Cure Selene',\n",
    "    'Cure Cosmo',\n",
    "\n",
    "]\n",
    "\n",
    "\n",
    "# 表示するデータとして (1, 256) の配列を作成する。\n",
    "gradient = np.linspace(0, 1, 256).reshape(1, -1)\n",
    "\n",
    "def plot_color_maps(cmap_category, cmap_list):\n",
    "    '''\n",
    "    \n",
    "    '''\n",
    "    num_cmaps = len(cmap_list)\n",
    "    fig, axes = plt.subplots(num_cmaps, 1, figsize=(9, num_cmaps * 0.35))\n",
    "    fig.subplots_adjust(wspace=0.4)\n",
    "    axes[0].set_title(cmap_category + ' colormaps', fontsize=14, x=0.5)\n",
    "    \n",
    "    def plot_color_map(ax, gradient, name):\n",
    "        cmap = cure_colors.get_by_name(name) \n",
    "        if cmap is None:\n",
    "            return\n",
    "        \n",
    "        ax.imshow(gradient, aspect='auto', cmap=cmap)\n",
    "        ax.set_axis_off()\n",
    "        ax.text(-10, 0, name, va='center', ha='right', fontsize=10)\n",
    "    \n",
    "    for ax, name in zip(axes, cmap_list):\n",
    "        plot_color_map(ax, gradient, name)\n",
    "        # plot_color_map(axR, gradient, name + '_r') # 逆向きは作っていないので、上の表示も順方向だけのものに変更\n",
    "\n",
    "for cmap_category, cmap_list in cmaps.items():\n",
    "    plot_color_maps(cmap_category, cmap_list)\n",
    "\n",
    "plt.show()"
   ]
  },
  {
   "cell_type": "markdown",
   "metadata": {
    "colab_type": "text",
    "id": "Wp4DdLAszheg",
    "nbpresent": {
     "id": "8057fd50-837e-48ad-bfd2-19f27ec63b20"
    }
   },
   "source": [
    "実際に、グラフに適用してみましょう。"
   ]
  },
  {
   "cell_type": "code",
   "execution_count": null,
   "metadata": {
    "colab": {
     "base_uri": "https://localhost:8080/",
     "height": 437
    },
    "colab_type": "code",
    "collapsed": false,
    "id": "K2MGQcqo6cs2",
    "nbpresent": {
     "id": "0250f61e-6223-45ba-89e1-d0c552132a23"
    },
    "outputId": "7dc8d7ff-9b13-44e2-fa05-5f583aacff48"
   },
   "outputs": [],
   "source": [
    "# 再びiris\n",
    "cure_colors = cure_colormap()\n",
    "\n",
    "fig = plt.figure(figsize=(13,7))\n",
    "im = plt.scatter(iris.data[:,0], iris.data[:,1], c=iris.target, linewidths=0, alpha=.8, cmap=cure_colors.cure_scarlet)\n",
    "fig.colorbar(im)\n",
    "plt.show()"
   ]
  },
  {
   "cell_type": "markdown",
   "metadata": {
    "colab_type": "text",
    "id": "ys-nvbn3Lkmp",
    "nbpresent": {
     "id": "64a32385-66ef-41b3-9bbb-6d587ec34971"
    }
   },
   "source": [
    "(LT後追記)\n",
    "\n",
    "違うクラスタの色の差があまりない場合が多くて、\n",
    "LTしながら「あまりいい使用例じゃないな。。。」と思った。というか言ってた。\n",
    "ごめんなさい、トワ様。\n",
    "\n",
    "よくよく考えたら、キャラクターに使用する色合いってのは\n",
    "調和が取れる色になっているわけで、\n",
    "似た色で色分けしちちゃうことになる(結果見づらい)のは当たり前。\n",
    "\n",
    "キュアコスモやキュアパルフェのように「七色」がキーカラーのプリキュアで色付するのがいいだろうと思いました。"
   ]
  },
  {
   "cell_type": "code",
   "execution_count": null,
   "metadata": {
    "colab": {
     "base_uri": "https://localhost:8080/",
     "height": 570
    },
    "colab_type": "code",
    "collapsed": false,
    "id": "gtG96S_R6hR4",
    "nbpresent": {
     "id": "0b991ef5-dc65-41d2-a4da-d66de553b1b0"
    },
    "outputId": "b51abd67-edeb-446c-bfc0-8cf40d18a5ab"
   },
   "outputs": [],
   "source": [
    "# 相関係数行列\n",
    "\n",
    "plt.figure(figsize=(12,9)) # サイズ設定 \n",
    "sns.heatmap(df[df.columns[df.columns != 'Species']].corr(),linewidths=0.1,vmax=1.0, square=True, linecolor='white', annot=True, cmap=cure_colors.cure_twinkle)"
   ]
  },
  {
   "cell_type": "markdown",
   "metadata": {
    "colab_type": "text",
    "id": "23_OSMarz9Z5",
    "nbpresent": {
     "id": "13a7efc4-7096-4a3e-9d50-637eace5fad7"
    }
   },
   "source": [
    "仕事中ワイ「では、次のグラフをご覧ください」\n",
    "\n",
    "脳内ワイ「きらめく星のプリンセス！キュアトゥインクル！」\n",
    "\n",
    "といった具合に、テンションキラヤバ(☆のプリキュアつながり)な感じでプレゼンに臨むことができ、\n",
    "お仕事が捗ることうけあいかと思います！\n",
    "\n",
    "\n",
    "　　　　　　　　　　　　　　　　　　　　　　　　　　　　　　　　　　　　　　　　　　　　　　　　　　　　　　　　　　　　　　　　　おしまい。\n",
    "\n"
   ]
  },
  {
   "cell_type": "markdown",
   "metadata": {
    "colab_type": "text",
    "id": "mH3z2N7G3soO",
    "nbpresent": {
     "id": "e70934ee-f401-4e43-9815-e5bd1bd1f2d3"
    }
   },
   "source": [
    "# おわりに\n",
    "\n",
    " * やっぱり終わらなかった(白目)\n",
    "   * 色を調べるのに意外と時間がかかった。さらに色の割合とか、中間色でグラデーションを整えるとか、調整を始めると時間が吹っ飛ぶ\n",
    " * ~~需要があったら公開します。そんなにボリュームないので、パッケージ化とかしません。~~\n",
    " * LTしたので公開します！すっごい中途半端な状態ですが。。。プリキュアに誓って絶対に完成させます。\n",
    "   "
   ]
  },
  {
   "cell_type": "markdown",
   "metadata": {
    "colab_type": "text",
    "id": "eMHAR-mEpKBd",
    "nbpresent": {
     "id": "c6438a4e-835f-4724-8a85-1eebe5352619"
    }
   },
   "source": [
    "# 参考資料\n",
    "\n",
    "\n",
    " * __＜【Python】matplotlibによるグラフ描画時のColormapのカスタマイズ＞__  \n",
    "    [https://qiita.com/kenmatsu4/items/fe8a2f1c34c8d5676df8](https://qiita.com/kenmatsu4/items/fe8a2f1c34c8d5676df8)\n",
    " * __＜matplotlib - カラーマップについて＞__  \n",
    "    [http://pynote.hatenablog.com/entry/matplotlib-color](http://pynote.hatenablog.com/entry/matplotlib-color)\n",
    "    "
   ]
  },
  {
   "cell_type": "markdown",
   "metadata": {
    "colab_type": "text",
    "id": "1O_ujWwOS8wA",
    "nbpresent": {
     "id": "24243711-64c2-4376-945a-303a77473d83"
    }
   },
   "source": [
    "# その他\n",
    "\n",
    "\n",
    "## プリキュアの名称について\n",
    "\n",
    " * 英語名とメンバ変数名は[英語版Wikipedia](https://en.wikipedia.org/wiki/Pretty_Cure)準拠\n",
    "\n",
    "### 色の採り方について\n",
    "\n",
    " * 「[プリキュアガーデン](http://www.toei-anim.co.jp/ptr/precure/)」以下の各作品ページにある\n",
    "   キャラクター紹介ページの画像から抽出\n",
    "   * 「髪の毛の色」、「衣装の色」で構成してます\n",
    "   * ただしSSは絵が足りなかったので[朝日放送のページ](https://www.asahi.co.jp/precure_ss/)から\n",
    "     ・・・と思ったけどキュアブライトとキュアウインディが載ってなかった。えぇ・・・\n",
    " * Chrome拡張「ColorPick Eyedropper」を使用して取得\n",
    "   * 配布は[こちら](https://chrome.google.com/webstore/detail/colorpick-eyedropper/ohcpnigalekghcmgcdcenkpelffpdolg)\n",
    "\n",
    "### 追加の資料情報\n",
    "\n",
    " * [＜キュアっぽさは色味から。カラースキームを抽出してプリキュアっぽいカラーパレットを作ってみよう＞ ](https://www.gizmodo.jp/2017/05/precure-color-palette.html)\n",
    "   * 見落としていた先行研究。ありがたい！\n"
   ]
  },
  {
   "cell_type": "code",
   "execution_count": null,
   "metadata": {
    "colab": {},
    "colab_type": "code",
    "collapsed": true,
    "id": "VzmMQpxIPZf2",
    "nbpresent": {
     "id": "1df4426a-3501-4452-baa0-eb7f3dd6591f"
    }
   },
   "outputs": [],
   "source": []
  }
 ],
 "metadata": {
  "anaconda-cloud": {},
  "colab": {
   "collapsed_sections": [],
   "name": "precure_colormap.ipynb",
   "provenance": [],
   "version": "0.3.2"
  },
  "kernelspec": {
   "display_name": "Python [conda root]",
   "language": "python",
   "name": "conda-root-py"
  },
  "language_info": {
   "codemirror_mode": {
    "name": "ipython",
    "version": 3
   },
   "file_extension": ".py",
   "mimetype": "text/x-python",
   "name": "python",
   "nbconvert_exporter": "python",
   "pygments_lexer": "ipython3",
   "version": "3.5.2"
  },
  "nbpresent": {
   "slides": {
    "0b0abe35-2e09-4c70-ab59-feed72dacd23": {
     "id": "0b0abe35-2e09-4c70-ab59-feed72dacd23",
     "prev": "bb65ebd4-8687-4586-ab9d-bd2b87131d5d",
     "regions": {
      "b0408769-3ec1-4d44-8c2a-2f5ea81b66fa": {
       "attrs": {
        "height": 0.8,
        "width": 0.8,
        "x": 0.1,
        "y": 0.1
       },
       "content": {
        "cell": "d10ba719-1883-4d00-937b-54e224f3b538",
        "part": "whole"
       },
       "id": "b0408769-3ec1-4d44-8c2a-2f5ea81b66fa"
      }
     }
    },
    "0f830084-17ae-49e9-9546-162b415f88b5": {
     "id": "0f830084-17ae-49e9-9546-162b415f88b5",
     "prev": "0b0abe35-2e09-4c70-ab59-feed72dacd23",
     "regions": {
      "f1d831cf-43c8-4afa-ab91-64c9f977ad36": {
       "attrs": {
        "height": 0.8,
        "width": 0.8,
        "x": 0.1,
        "y": 0.1
       },
       "content": {
        "cell": "c1d42ba7-f226-4f9e-97bd-931a7140733c",
        "part": "whole"
       },
       "id": "f1d831cf-43c8-4afa-ab91-64c9f977ad36"
      }
     }
    },
    "1c6cc1bf-4999-42b5-a6bd-fc3aca3a2f8e": {
     "id": "1c6cc1bf-4999-42b5-a6bd-fc3aca3a2f8e",
     "prev": "f523c105-3a53-497c-a358-fbddcd62f010",
     "regions": {
      "8b8bc1c8-f69e-46a2-b5e0-488fd6ce9c8a": {
       "attrs": {
        "height": 0.8,
        "width": 0.8,
        "x": 0.1,
        "y": 0.1
       },
       "content": {
        "cell": "e70934ee-f401-4e43-9815-e5bd1bd1f2d3",
        "part": "whole"
       },
       "id": "8b8bc1c8-f69e-46a2-b5e0-488fd6ce9c8a"
      }
     }
    },
    "2254d320-c0f5-45fd-9e0e-ed81e5d13c49": {
     "id": "2254d320-c0f5-45fd-9e0e-ed81e5d13c49",
     "prev": "905c8174-d76f-431c-9c6d-2885e2d09be7",
     "regions": {
      "2ecbba38-dab0-42bb-a918-70e7157ef77b": {
       "attrs": {
        "height": 0.8,
        "width": 0.8,
        "x": 0.1,
        "y": 0.1
       },
       "content": {
        "cell": "3a15ea61-58f1-475a-a68e-5155536c22b8",
        "part": "whole"
       },
       "id": "2ecbba38-dab0-42bb-a918-70e7157ef77b"
      }
     }
    },
    "28049d71-fc3e-483a-8b83-acb73e397c8a": {
     "id": "28049d71-fc3e-483a-8b83-acb73e397c8a",
     "prev": "abfa0c53-d6ba-48a0-b683-c4eca5433a91",
     "regions": {
      "397fc846-7c75-46fd-bd30-276b717030b2": {
       "attrs": {
        "height": 0.8,
        "width": 0.8,
        "x": 0.1,
        "y": 0.1
       },
       "content": {
        "cell": "0b991ef5-dc65-41d2-a4da-d66de553b1b0",
        "part": "whole"
       },
       "id": "397fc846-7c75-46fd-bd30-276b717030b2"
      }
     }
    },
    "338f65be-e768-4098-b283-fd75c9bc5e8d": {
     "id": "338f65be-e768-4098-b283-fd75c9bc5e8d",
     "prev": "f90afb29-de7c-4a3b-acb4-9f9a948e5c96",
     "regions": {
      "dace51fd-158a-4248-8c44-8c2b4458db5e": {
       "attrs": {
        "height": 0.8,
        "width": 0.8,
        "x": 0.1,
        "y": 0.1
       },
       "content": {
        "cell": "4b305cc6-ad47-4395-8042-c9c226328e81",
        "part": "whole"
       },
       "id": "dace51fd-158a-4248-8c44-8c2b4458db5e"
      }
     }
    },
    "4184c582-7d71-4452-9d9a-e122c11fe426": {
     "id": "4184c582-7d71-4452-9d9a-e122c11fe426",
     "prev": "e673a936-9be1-473a-877a-592b9a12212f",
     "regions": {
      "c80cdbbe-f46a-4e41-8dc6-42be26ec94a3": {
       "attrs": {
        "height": 0.8,
        "width": 0.8,
        "x": 0.1,
        "y": 0.1
       },
       "content": {
        "cell": "d2459bbc-17b7-424d-ba8e-90df0b704e3c",
        "part": "whole"
       },
       "id": "c80cdbbe-f46a-4e41-8dc6-42be26ec94a3"
      }
     }
    },
    "434e6b93-cc2d-45bf-9935-0da23481beb3": {
     "id": "434e6b93-cc2d-45bf-9935-0da23481beb3",
     "prev": "4184c582-7d71-4452-9d9a-e122c11fe426",
     "regions": {
      "6187c780-9366-479a-b217-53394cefc449": {
       "attrs": {
        "height": 0.8,
        "width": 0.8,
        "x": 0.1,
        "y": 0.1
       },
       "content": {
        "cell": "8057fd50-837e-48ad-bfd2-19f27ec63b20",
        "part": "whole"
       },
       "id": "6187c780-9366-479a-b217-53394cefc449"
      }
     }
    },
    "489dc417-5823-469d-b97b-ded2af1bf8d2": {
     "id": "489dc417-5823-469d-b97b-ded2af1bf8d2",
     "prev": "338f65be-e768-4098-b283-fd75c9bc5e8d",
     "regions": {
      "e0e3ff3f-df79-473c-aaef-ebe003f90412": {
       "attrs": {
        "height": 0.8,
        "width": 0.8,
        "x": 0.1,
        "y": 0.1
       },
       "content": {
        "cell": "af4212b8-1548-4115-b7b2-748a1335cff0",
        "part": "whole"
       },
       "id": "e0e3ff3f-df79-473c-aaef-ebe003f90412"
      }
     }
    },
    "5136ee6a-034e-4a59-a857-1b1298bae614": {
     "id": "5136ee6a-034e-4a59-a857-1b1298bae614",
     "prev": "c2ef92de-2210-4949-9659-a63f0b12ffd7",
     "regions": {
      "b138aabe-e4c6-4342-9b79-18a7a5fce3a8": {
       "attrs": {
        "height": 0.8,
        "width": 0.8,
        "x": 0.1,
        "y": 0.1
       },
       "content": {
        "cell": "5ae2ef09-d21c-42dd-87ee-cfc1d56eb7fb",
        "part": "whole"
       },
       "id": "b138aabe-e4c6-4342-9b79-18a7a5fce3a8"
      }
     }
    },
    "540e2eff-a946-4237-9acb-7ef389772bb3": {
     "id": "540e2eff-a946-4237-9acb-7ef389772bb3",
     "prev": "8ef22fff-bec0-482c-99eb-1c9c2b1bbab7",
     "regions": {
      "00b9bac0-8029-4214-9dd3-31e880c713a9": {
       "attrs": {
        "height": 0.8,
        "width": 0.8,
        "x": 0.1,
        "y": 0.1
       },
       "content": {
        "cell": "13d22a55-10d1-43a1-9eef-419d90efffc4",
        "part": "whole"
       },
       "id": "00b9bac0-8029-4214-9dd3-31e880c713a9"
      }
     }
    },
    "54b3bae2-19a0-4584-959f-dfa56aee3e84": {
     "id": "54b3bae2-19a0-4584-959f-dfa56aee3e84",
     "prev": "5b374a59-1a1d-4775-9849-215983257128",
     "regions": {
      "89fc9f6e-da74-480b-88ff-a6ed377e49fc": {
       "attrs": {
        "height": 0.8,
        "width": 0.8,
        "x": 0.1,
        "y": 0.1
       },
       "content": {
        "cell": "00f842fd-776a-40e4-ad8c-0d054908c8a7",
        "part": "whole"
       },
       "id": "89fc9f6e-da74-480b-88ff-a6ed377e49fc"
      }
     }
    },
    "5b374a59-1a1d-4775-9849-215983257128": {
     "id": "5b374a59-1a1d-4775-9849-215983257128",
     "prev": "b75ff831-aa93-413e-b0da-14f24a66622e",
     "regions": {
      "650e42e7-354c-4c60-8e99-544d931d3ba1": {
       "attrs": {
        "height": 0.8,
        "width": 0.8,
        "x": 0.1,
        "y": 0.1
       },
       "content": {
        "cell": "1b1bba9c-f5d4-4530-a243-8f1c9f25e681",
        "part": "whole"
       },
       "id": "650e42e7-354c-4c60-8e99-544d931d3ba1"
      }
     }
    },
    "6e043b22-6839-4e78-ba37-3d0113b2089c": {
     "id": "6e043b22-6839-4e78-ba37-3d0113b2089c",
     "prev": "54b3bae2-19a0-4584-959f-dfa56aee3e84",
     "regions": {
      "be72740d-03ca-4a2d-b101-0739b50e8f05": {
       "attrs": {
        "height": 0.8,
        "width": 0.8,
        "x": 0.1,
        "y": 0.1
       },
       "content": {
        "cell": "93c7ed5d-19c2-4a22-9430-26eb9cbd7753",
        "part": "whole"
       },
       "id": "be72740d-03ca-4a2d-b101-0739b50e8f05"
      }
     }
    },
    "7c6bafc6-043c-4c57-93e3-269d0c868acc": {
     "id": "7c6bafc6-043c-4c57-93e3-269d0c868acc",
     "prev": "a97a4ddc-7ed8-4c7a-ae41-01318c6270d6",
     "regions": {
      "8ae24676-4f12-4828-b4f8-65e6560c19e9": {
       "attrs": {
        "height": 0.8,
        "width": 0.8,
        "x": 0.1,
        "y": 0.1
       },
       "content": {
        "cell": "077b17a0-a979-46bf-9f08-54a781b9a155",
        "part": "whole"
       },
       "id": "8ae24676-4f12-4828-b4f8-65e6560c19e9"
      }
     }
    },
    "7d683225-5ea1-4bee-a661-616a3d29efbd": {
     "id": "7d683225-5ea1-4bee-a661-616a3d29efbd",
     "prev": "ff7de8cd-b792-4353-a6fa-2c37fe11023e",
     "regions": {
      "e21125f0-60f6-4161-b24c-026159d8e443": {
       "attrs": {
        "height": 0.8,
        "width": 0.8,
        "x": 0.1,
        "y": 0.1
       },
       "content": {
        "cell": "24243711-64c2-4376-945a-303a77473d83",
        "part": "whole"
       },
       "id": "e21125f0-60f6-4161-b24c-026159d8e443"
      }
     }
    },
    "8ef22fff-bec0-482c-99eb-1c9c2b1bbab7": {
     "id": "8ef22fff-bec0-482c-99eb-1c9c2b1bbab7",
     "prev": "7c6bafc6-043c-4c57-93e3-269d0c868acc",
     "regions": {
      "257d5f93-c24d-4a0e-932b-ef533554ec84": {
       "attrs": {
        "height": 0.8,
        "width": 0.8,
        "x": 0.1,
        "y": 0.1
       },
       "content": {
        "cell": "b061d024-5af9-491f-8032-db672deb5077",
        "part": "whole"
       },
       "id": "257d5f93-c24d-4a0e-932b-ef533554ec84"
      }
     }
    },
    "905c8174-d76f-431c-9c6d-2885e2d09be7": {
     "id": "905c8174-d76f-431c-9c6d-2885e2d09be7",
     "prev": null,
     "regions": {
      "762468b7-6ab6-447c-a660-2041908b6e51": {
       "attrs": {
        "height": 0.8,
        "width": 0.8,
        "x": 0.1,
        "y": 0.1
       },
       "content": {
        "cell": "6911b703-1271-4d65-b52c-12f838f71d81",
        "part": "whole"
       },
       "id": "762468b7-6ab6-447c-a660-2041908b6e51"
      }
     }
    },
    "a97a4ddc-7ed8-4c7a-ae41-01318c6270d6": {
     "id": "a97a4ddc-7ed8-4c7a-ae41-01318c6270d6",
     "prev": "5136ee6a-034e-4a59-a857-1b1298bae614",
     "regions": {
      "10e9d8f4-1eaf-4c1c-8a63-e6eee4008356": {
       "attrs": {
        "height": 0.8,
        "width": 0.8,
        "x": 0.1,
        "y": 0.1
       },
       "content": {
        "cell": "4ababc16-2f28-4dd9-a4f1-6a3cf27eb986",
        "part": "whole"
       },
       "id": "10e9d8f4-1eaf-4c1c-8a63-e6eee4008356"
      }
     }
    },
    "abfa0c53-d6ba-48a0-b683-c4eca5433a91": {
     "id": "abfa0c53-d6ba-48a0-b683-c4eca5433a91",
     "prev": "fd633660-7e44-4ba9-8601-cd141493bd19",
     "regions": {
      "e81a367d-ba35-4a35-a667-2c44708307f3": {
       "attrs": {
        "height": 0.8,
        "width": 0.8,
        "x": 0.1,
        "y": 0.1
       },
       "content": {
        "cell": "64a32385-66ef-41b3-9bbb-6d587ec34971",
        "part": "whole"
       },
       "id": "e81a367d-ba35-4a35-a667-2c44708307f3"
      }
     }
    },
    "b75ff831-aa93-413e-b0da-14f24a66622e": {
     "id": "b75ff831-aa93-413e-b0da-14f24a66622e",
     "prev": "0f830084-17ae-49e9-9546-162b415f88b5",
     "regions": {
      "5694b73a-5d4d-429f-aa9b-56cca61b58eb": {
       "attrs": {
        "height": 0.8,
        "width": 0.8,
        "x": 0.1,
        "y": 0.1
       },
       "content": {
        "cell": "8b52931b-74ca-4f62-a0e2-76677805291c",
        "part": "whole"
       },
       "id": "5694b73a-5d4d-429f-aa9b-56cca61b58eb"
      }
     }
    },
    "bb65ebd4-8687-4586-ab9d-bd2b87131d5d": {
     "id": "bb65ebd4-8687-4586-ab9d-bd2b87131d5d",
     "prev": "489dc417-5823-469d-b97b-ded2af1bf8d2",
     "regions": {
      "8cc84b24-bc73-47bf-8e57-1cabfc9521a9": {
       "attrs": {
        "height": 0.8,
        "width": 0.8,
        "x": 0.1,
        "y": 0.1
       },
       "content": {
        "cell": "b38d7927-8449-470b-abc2-82926999c865",
        "part": "whole"
       },
       "id": "8cc84b24-bc73-47bf-8e57-1cabfc9521a9"
      }
     }
    },
    "c2ef92de-2210-4949-9659-a63f0b12ffd7": {
     "id": "c2ef92de-2210-4949-9659-a63f0b12ffd7",
     "prev": "6e043b22-6839-4e78-ba37-3d0113b2089c",
     "regions": {
      "568ef6ee-2b9d-478c-8fa0-ee8fc6d8b941": {
       "attrs": {
        "height": 0.8,
        "width": 0.8,
        "x": 0.1,
        "y": 0.1
       },
       "content": {
        "cell": "a2ad744e-d559-4c49-aec1-01080a0a50ee",
        "part": "whole"
       },
       "id": "568ef6ee-2b9d-478c-8fa0-ee8fc6d8b941"
      }
     }
    },
    "c37a772c-23d0-4087-933b-3cfe28209e0a": {
     "id": "c37a772c-23d0-4087-933b-3cfe28209e0a",
     "prev": "7d683225-5ea1-4bee-a661-616a3d29efbd",
     "regions": {
      "1fae852a-7af1-40ba-b6fb-8f2900198de5": {
       "attrs": {
        "height": 0.8,
        "width": 0.8,
        "x": 0.1,
        "y": 0.1
       },
       "content": {
        "cell": "1df4426a-3501-4452-baa0-eb7f3dd6591f",
        "part": "whole"
       },
       "id": "1fae852a-7af1-40ba-b6fb-8f2900198de5"
      }
     }
    },
    "e673a936-9be1-473a-877a-592b9a12212f": {
     "id": "e673a936-9be1-473a-877a-592b9a12212f",
     "prev": "540e2eff-a946-4237-9acb-7ef389772bb3",
     "regions": {
      "bae87f29-e4ac-42a3-bb1e-39da8ccaaa60": {
       "attrs": {
        "height": 0.8,
        "width": 0.8,
        "x": 0.1,
        "y": 0.1
       },
       "content": {
        "cell": "a4213695-8d93-4096-bfdf-52a97d4409e0",
        "part": "whole"
       },
       "id": "bae87f29-e4ac-42a3-bb1e-39da8ccaaa60"
      }
     }
    },
    "f523c105-3a53-497c-a358-fbddcd62f010": {
     "id": "f523c105-3a53-497c-a358-fbddcd62f010",
     "prev": "28049d71-fc3e-483a-8b83-acb73e397c8a",
     "regions": {
      "bf313ad6-6008-4e8a-8cca-0e31f741cb12": {
       "attrs": {
        "height": 0.8,
        "width": 0.8,
        "x": 0.1,
        "y": 0.1
       },
       "content": {
        "cell": "13a7efc4-7096-4a3e-9d50-637eace5fad7",
        "part": "whole"
       },
       "id": "bf313ad6-6008-4e8a-8cca-0e31f741cb12"
      }
     }
    },
    "f90afb29-de7c-4a3b-acb4-9f9a948e5c96": {
     "id": "f90afb29-de7c-4a3b-acb4-9f9a948e5c96",
     "prev": "2254d320-c0f5-45fd-9e0e-ed81e5d13c49",
     "regions": {
      "c0321d16-e7d1-43c5-935a-9585c400a672": {
       "attrs": {
        "height": 0.8,
        "width": 0.8,
        "x": 0.1,
        "y": 0.1
       },
       "content": {
        "cell": "4ea5a96b-f70a-42f7-8063-b5ad89b1af6b",
        "part": "whole"
       },
       "id": "c0321d16-e7d1-43c5-935a-9585c400a672"
      }
     }
    },
    "fd633660-7e44-4ba9-8601-cd141493bd19": {
     "id": "fd633660-7e44-4ba9-8601-cd141493bd19",
     "prev": "434e6b93-cc2d-45bf-9935-0da23481beb3",
     "regions": {
      "df7756f5-eef3-4c59-b459-2a017ae613a5": {
       "attrs": {
        "height": 0.8,
        "width": 0.8,
        "x": 0.1,
        "y": 0.1
       },
       "content": {
        "cell": "0250f61e-6223-45ba-89e1-d0c552132a23",
        "part": "whole"
       },
       "id": "df7756f5-eef3-4c59-b459-2a017ae613a5"
      }
     }
    },
    "ff7de8cd-b792-4353-a6fa-2c37fe11023e": {
     "id": "ff7de8cd-b792-4353-a6fa-2c37fe11023e",
     "prev": "1c6cc1bf-4999-42b5-a6bd-fc3aca3a2f8e",
     "regions": {
      "1dbc8690-03c0-469d-9032-42dcaa654479": {
       "attrs": {
        "height": 0.8,
        "width": 0.8,
        "x": 0.1,
        "y": 0.1
       },
       "content": {
        "cell": "c6438a4e-835f-4724-8a85-1eebe5352619",
        "part": "whole"
       },
       "id": "1dbc8690-03c0-469d-9032-42dcaa654479"
      }
     }
    }
   },
   "themes": {}
  }
 },
 "nbformat": 4,
 "nbformat_minor": 0
}
